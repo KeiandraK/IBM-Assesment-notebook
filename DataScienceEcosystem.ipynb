{
 "cells": [
  {
   "cell_type": "markdown",
   "id": "efdb1ff3-69b5-44ea-9e3b-9c6f35343739",
   "metadata": {},
   "source": [
    "# Data Science Tools and Ecosystems"
   ]
  },
  {
   "cell_type": "markdown",
   "id": "1d7fa046-6822-4781-b476-77949e0857a4",
   "metadata": {},
   "source": [
    "**In this notebook, Data Science Tools and Ecosystems are summarized**"
   ]
  },
  {
   "cell_type": "markdown",
   "id": "10030a48-5e41-4383-8be4-a40e57e6625f",
   "metadata": {},
   "source": [
    "**Objectives:**\n",
    "\n",
    "* Some commonly used libraries in Data Science\n",
    "* List popular languages for Data Science\n",
    "* Convert minutes to hours\n"
   ]
  },
  {
   "cell_type": "markdown",
   "id": "b6909c94-8933-4e2d-92a9-3cf7e95331b5",
   "metadata": {},
   "source": [
    "Some of the popular languages that Data Scientists use are:\n",
    "1. Python\n",
    "2. R\n",
    "3. JavaScript"
   ]
  },
  {
   "cell_type": "markdown",
   "id": "db8997b7-20c6-4eb3-b207-8ded865f9647",
   "metadata": {},
   "source": [
    "Some of the commonly used libraries used by Data Scientists include:\n",
    "* Pandas\n",
    "* Numpy\n",
    "* Matplotlib\n",
    "* Tensorflow\n",
    "* Scikit-learn\n",
    "* Keras"
   ]
  },
  {
   "cell_type": "markdown",
   "id": "3ef0ae52-646f-4e5a-90b0-7fb46b874a31",
   "metadata": {},
   "source": [
    "| Data Science Tools|\n",
    "| ------|\n",
    "| Visual Studio Code |\n",
    "| Apache Hadoop |\n",
    "| Apache Spark |"
   ]
  },
  {
   "cell_type": "markdown",
   "id": "eab90f49-3db2-48a5-9aca-86110ffe42b7",
   "metadata": {},
   "source": [
    "### Below are a few examples of evaluating arithmetic expressions in Python"
   ]
  },
  {
   "cell_type": "code",
   "execution_count": 8,
   "id": "8d496f33-5fda-44cd-b2b2-0e89c213561d",
   "metadata": {},
   "outputs": [
    {
     "data": {
      "text/plain": [
       "17"
      ]
     },
     "execution_count": 8,
     "metadata": {},
     "output_type": "execute_result"
    }
   ],
   "source": [
    "# This is a simple arithmetic expression to multiply then add integers.\n",
    "(3*4)+5"
   ]
  },
  {
   "cell_type": "code",
   "execution_count": 18,
   "id": "ea1a1c05-f75e-4db6-8899-4209f844f71f",
   "metadata": {},
   "outputs": [
    {
     "name": "stdout",
     "output_type": "stream",
     "text": [
      "3:20\n"
     ]
    }
   ],
   "source": [
    "# This will convert 200 minutes to hours by dividing by 60\n",
    "total_minutes = 200\n",
    "hours = total_minutes // 60\n",
    "minutes = total_minutes % 60\n",
    "time = \"{}:{}\".format(hours, minutes)\n",
    "\n",
    "print(time)"
   ]
  },
  {
   "cell_type": "markdown",
   "id": "53806fdf-a59c-426e-89f1-284a6b705e9b",
   "metadata": {},
   "source": [
    "## Author\n",
    "\n",
    "Keiandra King-Britt"
   ]
  },
  {
   "cell_type": "code",
   "execution_count": null,
   "id": "bff46809-05a0-43b7-ad29-2b4b5b073f70",
   "metadata": {},
   "outputs": [],
   "source": []
  }
 ],
 "metadata": {
  "kernelspec": {
   "display_name": "anaconda-2022.05-py39",
   "language": "python",
   "name": "conda-env-anaconda-2022.05-py39-py"
  },
  "language_info": {
   "codemirror_mode": {
    "name": "ipython",
    "version": 3
   },
   "file_extension": ".py",
   "mimetype": "text/x-python",
   "name": "python",
   "nbconvert_exporter": "python",
   "pygments_lexer": "ipython3",
   "version": "3.9.12"
  }
 },
 "nbformat": 4,
 "nbformat_minor": 5
}
